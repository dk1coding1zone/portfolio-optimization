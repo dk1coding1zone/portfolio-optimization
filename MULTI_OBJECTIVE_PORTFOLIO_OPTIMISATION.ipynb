{
  "nbformat": 4,
  "nbformat_minor": 0,
  "metadata": {
    "colab": {
      "provenance": []
    },
    "kernelspec": {
      "name": "python3",
      "display_name": "Python 3"
    },
    "language_info": {
      "name": "python"
    }
  },
  "cells": [
    {
      "cell_type": "markdown",
      "source": [
        "* ## Problem :\n",
        "Multi-objective portfolio optimization is a complex and challenging problem in the field of finance and optimization. It involves selecting a combination of assets or investments that maximize multiple conflicting objectives simultaneously. These objectives often include maximizing returns, minimizing risk, and achieving other financial goals. The main idea is to find a balance between different objectives, as improving one objective may lead to a trade-off with another."
      ],
      "metadata": {
        "id": "xKL31w7ziFbK"
      }
    },
    {
      "cell_type": "markdown",
      "source": [
        "## Mathematical Optimisation (Fair warning: very boring)\n",
        "\n",
        "The mathematical formulation of multi-objective portfolio optimization involves defining objective functions, decision variables, and constraints. Below is a simplified representation of the mathematical model for multi-objective portfolio optimization:"
      ],
      "metadata": {
        "id": "HK2SLyqXi-dU"
      }
    },
    {
      "cell_type": "markdown",
      "source": [
        "## Objective Functions:\n",
        "For the mathematical part, consider k different objective functions f1(x), f2(x), …,fk(x) where x is the vector of decision variables representing the portfolio weights."
      ],
      "metadata": {
        "id": "i1VluhO-jK4p"
      }
    },
    {
      "cell_type": "markdown",
      "source": [
        "- f1(x): the return objective, e.g., maximizing expected portfolio return.\n",
        "- f2(x): the risk objective, e.g., minimizing portfolio risk (variance or standard deviation).\n",
        "- f3(x): represents additional objectives such as achieving a target level of risk-adjusted return, sector exposure constraints, or other specific criteria"
      ],
      "metadata": {
        "id": "bViEdupWjiF5"
      }
    },
    {
      "cell_type": "markdown",
      "source": [
        "## Decision Variables:\n",
        "Let x be a vector of decision variables representing the portfolio weights assigned to each asset in the portfolio. The sum of these weights should equal 1 to ensure that the portfolio is fully invested.\n",
        "\n",
        "sum(x1,x2, ….., xn) = 1\n",
        "\n",
        "Where xi is the weight of i-th asset in the portfolio and n is the total number of assets."
      ],
      "metadata": {
        "id": "SrcRSJ4LjwrM"
      }
    },
    {
      "cell_type": "markdown",
      "source": [
        "## Constraints:\n",
        "- The sum of all weights should always be equal to 1.\n",
        "- Minimum and maximum investment limits for all assets their weights should be xmin ≤ x ≤ xmax\n",
        "- Other constraints like constraints on sector exposure, asset class exposure, or other specific requirements."
      ],
      "metadata": {
        "id": "mo0IM5VjjxDT"
      }
    },
    {
      "cell_type": "markdown",
      "source": [
        "## Solving the problem:\n",
        "To solve the multi-objective problem, you need to find a set of portfolio weights (x) that optimizes the multiple objective functions simultaneously. This often involves trade-offs between the objectives, and different mathematical techniques can be used to address this trade-off, such as scalarization methods.\n",
        "\n",
        "\n",
        "A common approach is to use scalarization to convert the multi-objective problem into a single-objective problem by using weighted combinations of the objectives. For example, you can create a weighted sum of the objectives:\n",
        "\n",
        "Z = w1⋅f1(x) + w2⋅f2(x) +……. + wk⋅fk(x)\n",
        "\n",
        "We then maximize the function Z by adjusting the weights w1, w2, .., wk\n",
        "\n",
        "Here, w1, w2, .., wk are weights representing the importance of each objective.\n",
        "\n",
        "Adjusting these weights allows you to explore the trade-offs between objectives and find different solutions on the Pareto front."
      ],
      "metadata": {
        "id": "ocheWbnSkISa"
      }
    },
    {
      "cell_type": "markdown",
      "source": [
        "Adjusting these weights allows you to explore the trade-offs between objectives and find different solutions on the Pareto front."
      ],
      "metadata": {
        "id": "RrJUuAx4kqIi"
      }
    },
    {
      "cell_type": "markdown",
      "source": [
        "## The Pareto front represents a set of solutions where one objective cannot be improved without degrading another. It illustrates trade-offs between conflicting objectives."
      ],
      "metadata": {
        "id": "6D22OS1Ql6X4"
      }
    },
    {
      "cell_type": "markdown",
      "source": [
        "### Example\n",
        "For ease of understanding, let’s take two objectives instead of more.\n",
        "\n",
        "Next, we continue with the following steps:"
      ],
      "metadata": {
        "id": "A6_e3QrMmUAV"
      }
    },
    {
      "cell_type": "markdown",
      "source": [
        "The objective function is a mathematical expression that quantifies what you want to maximize or minimize. It typically involves decision variables.\n",
        "\n",
        "For our assets:\n",
        "\n",
        "### Step 1: Define the Objective Function:\n",
        "\n",
        "- W1: Weight of asset 1\n",
        "- W2: Weight of asset 2\n",
        "- m1: Expected returns of asset 1\n",
        "- m2: Expected returns of asset 2\n",
        "- s1: Standard Deviation of asset 1\n",
        "- s2: Standard Deviation of asset 2\n",
        "- c: Correlation between asset 1 & asset 2"
      ],
      "metadata": {
        "id": "yqvh3xQEmfFS"
      }
    },
    {
      "cell_type": "markdown",
      "source": [
        "### Our Objective Functions:\n",
        "\n",
        "Maximize: f1(w) = m1*w1+m2*w2 (Maximize expected return)\n",
        "\n",
        "Minimize: f2(w) = w12 *s12 + w22 *s22 + 2*c*w1*w2*s1*s2 (Minimize portfolio variance. c is the correlation coefficient between Asset 1 and Asset 2)"
      ],
      "metadata": {
        "id": "CQXlUNO_mm02"
      }
    },
    {
      "cell_type": "markdown",
      "source": [
        "### Step 2: Identify Decision Variables:\n",
        "\n",
        "Decision variables are the parameters you want to optimize. They are often denoted by symbols (e.g., x, y, w) and can represent quantities, allocations, or actions."
      ],
      "metadata": {
        "id": "vCw2AhufoJep"
      }
    },
    {
      "cell_type": "markdown",
      "source": [
        "### Step 3: Specify Constraints:\n",
        "\n",
        "Constraints are conditions or limitations that must be satisfied. They can be equations or inequalities involving the decision variables.\n",
        "\n",
        "Here the constraints are:\n",
        "\n",
        "w1 + w2 = 1: The sum of weights is equal to 1.\n",
        "w1,w2 >=0: Non-negativity constraint for each weight"
      ],
      "metadata": {
        "id": "EhsxauNcoLwl"
      }
    },
    {
      "cell_type": "markdown",
      "source": [
        "### Step 4: Formulate the Optimization Problem:\n",
        "\n",
        "Combine the objective function and constraints to create a comprehensive mathematical expression.\n",
        "\n",
        "Our overall question:"
      ],
      "metadata": {
        "id": "0-qOECdqoSYo"
      }
    },
    {
      "cell_type": "markdown",
      "source": [
        "Maximize: Z = a*f1(w) — (1-a)*f2(w) {where a is the weighting parameter}\n",
        "\n",
        "Subject to:\n",
        "\n",
        "w1 + w2 = 1\n",
        "w1,w2 >=0"
      ],
      "metadata": {
        "id": "v5nVcuXBobMt"
      }
    },
    {
      "cell_type": "markdown",
      "source": [
        "### Step 5: Choose the Optimization Technique:\n",
        "\n",
        "Select the appropriate optimization method for solving the problem. Common techniques include linear programming (LP), quadratic programming (QP), mixed-integer linear programming (MILP), nonlinear programming (NLP), and more."
      ],
      "metadata": {
        "id": "uHcaZ6viqRG0"
      }
    },
    {
      "cell_type": "markdown",
      "source": [
        "### Step 6. Solve the Optimization Problem:\n",
        "\n",
        "Apply the chosen optimization technique to find the optimal solution. Software packages like MATLAB, Python (using libraries like SciPy), or specialized optimization solvers can be used."
      ],
      "metadata": {
        "id": "FFibQHx9qVKo"
      }
    },
    {
      "cell_type": "markdown",
      "source": [
        "### Step 7: Evaluate the Solution:\n",
        "\n",
        "After solving the optimization problem, you will obtain values for the decision variables. Evaluate the objective function to determine the optimal value."
      ],
      "metadata": {
        "id": "MlesW2x2qeDT"
      }
    },
    {
      "cell_type": "markdown",
      "source": [
        "In our example, we assumed:\n",
        "\n",
        "m1 = 0.08, m2 = 0.12\n",
        "s1 = 0.15, s2 = 0.27\n",
        "c = 0.3\n",
        "Optimal Solution (wi*):\n",
        "\n",
        "w1* = 0.321, w2* = 0.679\n",
        "\n",
        "Optimal Value: Z* = 0.065"
      ],
      "metadata": {
        "id": "Nrm3dxEpqkxJ"
      }
    },
    {
      "cell_type": "markdown",
      "source": [
        "### Step 8: Interpret the Results:\n",
        "\n",
        "Understand the implications of the optimal solution in the context of your problem. Does it make sense given your objectives and constraints?\n",
        "\n",
        "The above steps provide a simplified overview of the process. In practice, optimization problems can be much more complex, involving nonlinear objective functions, multiple constraints, and discrete variables. The specific formulae and methods used will depend on the nature of the problem and the chosen optimization technique.\n",
        "\n",
        "If you reached till here and are reading this sentence, I sincerely appreciate your patience. Let us reward you by showing how you can apply this to your portfolio.\n",
        "\n"
      ],
      "metadata": {
        "id": "6X-VvaXTrLLx"
      }
    },
    {
      "cell_type": "markdown",
      "source": [
        "Implementation (since theory will take you only so far)\n",
        "We looked into the history and definition. Now let's learn the implementation of Multi-Objective Portfolio Optimisation.\n",
        "\n",
        "Step 1: Define your Objectives and their Constraints\n",
        "- Start by listing your investment objectives. For example, we want to maximize returns and minimize risk here, but you can customize the objective as per your requirements.\n",
        "\n",
        "- Specify needed constraints such as the total investment amount, asset allocation limits, and target minimum return.\n",
        "\n",
        "Step 2: Collection of Data\n",
        "- Gather historical data on the assets you want to include in your portfolio. This data should include all the past returns and risks (standard deviations) for each asset.\n",
        "\n",
        "Step 3: Calculate Expected Returns and Risks\n",
        "- Calculate the expected return and risk for each asset based on the historical data. The expected return is typically the average historical return, and risk is the standard deviation of returns.\n",
        "\n",
        "Step 4: Create a Portfolio\n",
        "- Create a table with different random portfolio combinations of assets. Vary the allocation percentages(weight) for each asset to cover a wide range of possibilities.\n",
        "\n",
        "- Calculate the portfolio return and risk for each combination using weighted averages.\n",
        "\n",
        "Step 5: Efficient Frontier\n",
        "- Create a scatter plot with portfolio risk (x-axis) and return (y-axis).\n",
        "\n",
        "- Plot each portfolio combination as a point on the graph.\n",
        "\n",
        "- Use the best fitting line or curve to connect the points that represent the best trade-offs between risk and return. This curve is known as the Efficient Frontier*.\n",
        "\n",
        "* The efficient frontier is a concept in finance that represents the set of optimal portfolios offering the highest expected return for a given level of risk, or the lowest risk for a given level of expected return. It illustrates the trade-off between risk and reward in portfolio optimization.\n",
        "\n",
        "Step 6: Optimization\n",
        "- Implement mathematical optimization algorithms (e.g., quadratic, linear programming) to find the portfolios on the Efficient Frontier that best aligns with your objectives and constraints.\n",
        "\n",
        "- These portfolios are known as Pareto-optimal portfolios.\n",
        "\n",
        "Step 7: Plot Pareto-optimal Portfolios\n",
        "- On the Efficient Frontier graph, plot the Pareto-optimal portfolios obtained through optimization. These are the portfolios that represent the best return-to-risk ratio.\n",
        "\n",
        "Step 8: Choose a Portfolio\n",
        "- Depending on your risk tolerance and return requirements, select one of the Pareto-optimal portfolios from the graph.\n",
        "\n",
        "- This chosen portfolio will be the optimal allocation of assets that aligns with your required objectives and constraints."
      ],
      "metadata": {
        "id": "S8cqKj6BrOr1"
      }
    },
    {
      "cell_type": "markdown",
      "source": [
        "### Overview of Code\n",
        "Before jumping to the full code implementation let us look at an overview of what we are trying to do with the code and then we will move on to the actual code.\n",
        "\n",
        "1. We start by importing the necessary libraries such as numpy, matplotlib and cvxpy. Cvxpy is used to formulate and solve convex optimization problems.\n",
        "2. Then we decide on how many assets(‘n_assets’) we want to consider and then save their expected returns (‘expected_returns’) in an array. We saved the covariance among the assets in a matrix (‘cov_matrix’)\n",
        "3. We then defined the maximum allowed portfolio risk (variance) which is ‘risk_tolerance’ and the desired level of expected return from the portfolio ‘target_return’.\n",
        "\n",
        "4. The weights of the assets in the portfolio are represented by ‘weights’ and it is declared as a cvxpy.Variable.\n",
        "\n",
        "5. Then we define ‘expected_return’ which is calculated as the sum of expected returns weighted by the portfolio weights and ‘portfolio_risk’ is defined using the quadratic form to calculate portfolio risk (variance).\n",
        "\n",
        "6. Then we set the constraints for the model to train. The constraints are: The sum of all weights should be 1 (fully invested portfolio)\n",
        "All the weights should be greater than equal to 0 (only long positions)\n",
        "The expected return should be more than or equal to the target return\n",
        "Portfolio risk should be less than equal to risk tolerance.\n",
        "\n",
        "7. Defined the objective which is to maximize the expected return.\n",
        "\n",
        "8. Create this problem using the ‘cvxpy.Problem’ and the arguments as ‘objective’ and ‘constraints’.\n",
        "\n",
        "9. Solve the multi-objective optimization problem using ‘problem.solve()’. This finds the portfolio weights that maximize expected return while satisfying constraints. Extract and print the portfolio weights, expected return, and risk (standard deviation) of the portfolio.\n",
        "\n",
        "10. Extract and print the portfolio weights, expected return, and risk (standard deviation) of the portfolio.\n",
        "\n",
        "11. Calculate and plot the efficient frontier.\n",
        "\n"
      ],
      "metadata": {
        "id": "DWgbVcnbsLkh"
      }
    },
    {
      "cell_type": "markdown",
      "source": [
        "### Now, THE CODE (literally)\n",
        "- Firstly, to form the covariance matrix, we took stocks of Apple and Tesla and imported their closing price data from Yahoo Finance.\n",
        "- We then took the percentage difference in prices between adjacent row cells using pct_change."
      ],
      "metadata": {
        "id": "fkOODT5hsQY-"
      }
    },
    {
      "cell_type": "code",
      "source": [
        "import yfinance as yf"
      ],
      "metadata": {
        "id": "Obmqf-FnrKcI"
      },
      "execution_count": null,
      "outputs": []
    },
    {
      "cell_type": "code",
      "execution_count": null,
      "metadata": {
        "colab": {
          "base_uri": "https://localhost:8080/"
        },
        "id": "-FaP7GSchc_Z",
        "outputId": "aa968358-6488-435b-96eb-7f918667e7e8"
      },
      "outputs": [
        {
          "output_type": "stream",
          "name": "stderr",
          "text": [
            "[*********************100%***********************]  1 of 1 completed\n",
            "[*********************100%***********************]  1 of 1 completed\n"
          ]
        }
      ],
      "source": [
        "# Importing the data of two stocks using yahoo finance\n",
        "tsla_data = yf.download('TSLA','2022-12-01','2023-12-01')\n",
        "aapl_data = yf.download('AAPL','2022-12-01','2023-12-01')"
      ]
    },
    {
      "cell_type": "code",
      "source": [
        "tsla_price = tsla_data['Close']\n",
        "aapl_price = aapl_data['Close']"
      ],
      "metadata": {
        "id": "ZKi46x6VtpPZ"
      },
      "execution_count": null,
      "outputs": []
    },
    {
      "cell_type": "code",
      "source": [
        "tsla_price = tsla_price.pct_change()[1:]\n",
        "aapl_price = aapl_price.pct_change()[1:]"
      ],
      "metadata": {
        "id": "rkTn_rpOtvbm"
      },
      "execution_count": null,
      "outputs": []
    },
    {
      "cell_type": "markdown",
      "source": [
        "To calculate the expected return, we applied the below formula (.shift(1) shifts down the data by one row downward since the change in returns is calculated by ret(t+1)-ret(t)/ret(t))"
      ],
      "metadata": {
        "id": "ASe-SjcIuHH8"
      }
    },
    {
      "cell_type": "code",
      "source": [
        "tsla_ret = (tsla_price / tsla_price.shift(1) - 1)[1:]"
      ],
      "metadata": {
        "id": "8ngFCRhHt1QK"
      },
      "execution_count": null,
      "outputs": []
    },
    {
      "cell_type": "code",
      "source": [
        "print(\"The expected return of tesla is\",tsla_ret.mean())"
      ],
      "metadata": {
        "colab": {
          "base_uri": "https://localhost:8080/"
        },
        "id": "ZSMKmgQ2uLSE",
        "outputId": "084c5009-8f22-49e3-a43a-7b57becc3787"
      },
      "execution_count": null,
      "outputs": [
        {
          "output_type": "stream",
          "name": "stdout",
          "text": [
            "The expected return of tesla is 0.7079565132822838\n"
          ]
        }
      ]
    },
    {
      "cell_type": "markdown",
      "source": [
        "We then calculated the mean and used the covariance formula mentioned above to calculate variance as well as covariance for both stocks. Similarly, we can calculate the covariance between multiple other stocks."
      ],
      "metadata": {
        "id": "nFvILH9duiRM"
      }
    },
    {
      "cell_type": "code",
      "source": [
        "tsla_mean = tsla_price.mean()\n",
        "aapl_mean = aapl_price.mean()\n",
        "tsla_price = tsla_price - tsla_mean\n",
        "aapl_price = aapl_price - aapl_mean\n",
        "cov = tsla_price*aapl_price\n",
        "print(\"The value of covariance is\" , cov.mean())"
      ],
      "metadata": {
        "colab": {
          "base_uri": "https://localhost:8080/"
        },
        "id": "EzVEZBYCuN_-",
        "outputId": "897853cb-58c4-4179-84db-7f27b9e89c4c"
      },
      "execution_count": null,
      "outputs": [
        {
          "output_type": "stream",
          "name": "stdout",
          "text": [
            "The value of covariance is 0.00022530254438592222\n"
          ]
        }
      ]
    },
    {
      "cell_type": "markdown",
      "source": [
        "Calculating the Variance of two stocks"
      ],
      "metadata": {
        "id": "H54vk-Jlu-B1"
      }
    },
    {
      "cell_type": "code",
      "source": [
        "var_tsla = (tsla_price**2).mean()\n",
        "var_aapl = (aapl_price**2).mean()"
      ],
      "metadata": {
        "id": "ofAHRM-eusTP"
      },
      "execution_count": null,
      "outputs": []
    },
    {
      "cell_type": "code",
      "source": [
        "print(\"The variance of Tesla stock is\",var_tsla, \"and the variance of Apple stock is \", var_aapl)"
      ],
      "metadata": {
        "colab": {
          "base_uri": "https://localhost:8080/"
        },
        "id": "GlsyHiY1vCq7",
        "outputId": "16215858-7373-4449-d7ea-25ad6893b177"
      },
      "execution_count": null,
      "outputs": [
        {
          "output_type": "stream",
          "name": "stdout",
          "text": [
            "The variance of Tesla stock is 0.0013312882268778571 and the variance of Apple stock is  0.00018749016720910361\n"
          ]
        }
      ]
    },
    {
      "cell_type": "markdown",
      "source": [
        "Importing necessary libraries, defining total assets and taking our expected returns as well as covariance matrix(here we took 5 other stocks for our portfolio and calculated their covariance matrix as well as expected returns)"
      ],
      "metadata": {
        "id": "uNXkMxhpvjrY"
      }
    },
    {
      "cell_type": "code",
      "source": [
        "#importing necessary libraries\n",
        "import cvxpy as cp\n",
        "import numpy as np\n",
        "import matplotlib.pyplot as plt\n",
        "\n",
        "# Number of assets\n",
        "n_assets = 5\n",
        "\n",
        "# Define expected returns and covariance matrix (replace with your data)\n",
        "expected_returns = np.array([0.08, 0.07, 0.09, 0.09, 0.08])\n",
        "cov_matrix = np.array([[0.04, 0.02, 0.015, 0.01, 0.025],\n",
        "                       [0.02, 0.03, 0.01, 0.015, 0.02],\n",
        "                       [0.015, 0.01, 0.02, 0.015, 0.01],\n",
        "                       [0.01, 0.015, 0.015, 0.03, 0.02],\n",
        "                       [0.025, 0.02, 0.01, 0.02, 0.04]])\n",
        "\n"
      ],
      "metadata": {
        "id": "0sMMwW4ZvGXh"
      },
      "execution_count": null,
      "outputs": []
    },
    {
      "cell_type": "markdown",
      "source": [
        "Defining returns, risk, variable weights, as well as the optimisation problem(setting the total sum of weights=1)"
      ],
      "metadata": {
        "id": "LE8yLJ0Rv2xi"
      }
    },
    {
      "cell_type": "code",
      "source": [
        "# Define the risk tolerance and target return\n",
        "risk_tolerance = 0.06\n",
        "target_return = 0.05\n",
        "\n",
        "# Define the variable for portfolio weights\n",
        "weights = cp.Variable(n_assets)\n",
        "\n",
        "# Define the expected return and risk objectives\n",
        "expected_return = cp.sum(expected_returns @ weights)\n",
        "portfolio_risk = cp.quad_form(weights, cov_matrix)\n",
        "\n",
        "# Define the optimization problem\n",
        "constraints = [cp.sum(weights) == 1, expected_return >= target_return, portfolio_risk <= risk_tolerance,weights >= 0]\n",
        "objective = cp.Maximize(expected_return)\n",
        "problem = cp.Problem(objective, constraints)"
      ],
      "metadata": {
        "id": "b4Yf6EHFvu11"
      },
      "execution_count": null,
      "outputs": []
    },
    {
      "cell_type": "markdown",
      "source": [
        "Solving the problems and printing the optimized weight distribution"
      ],
      "metadata": {
        "id": "-nhyKsm-wdo4"
      }
    },
    {
      "cell_type": "code",
      "source": [
        "\n",
        "\n",
        "\n",
        "# Solve the multi-objective optimization problem\n",
        "problem.solve()\n",
        "\n",
        "# Extract portfolio weights\n",
        "portfolio_weights = weights.value\n",
        "\n",
        "# Print the results\n",
        "print(\"Portfolio Weights:\")\n",
        "print(portfolio_weights)\n",
        "print(\"Portfolio Expected Return:\", expected_return.value)\n",
        "print(\"Portfolio Risk (Standard Deviation):\", np.sqrt(portfolio_risk.value))\n",
        "\n",
        "# Plot the efficient frontier\n",
        "risk_values = []\n",
        "return_values = []\n",
        "\n",
        "for r in np.linspace(0.05, 0.15, 100):\n",
        "    expected_return = cp.sum(expected_returns @ weights)\n",
        "    portfolio_risk = cp.quad_form(weights, cov_matrix)\n",
        "    constraints = [cp.sum(weights) == 1, expected_return == r]\n",
        "    problem = cp.Problem(cp.Minimize(portfolio_risk), constraints)\n",
        "    problem.solve()\n",
        "    risk_values.append(np.sqrt(portfolio_risk.value))\n",
        "    return_values.append(r)\n",
        "\n",
        "\n"
      ],
      "metadata": {
        "colab": {
          "base_uri": "https://localhost:8080/"
        },
        "id": "4TZw-ivCwDsi",
        "outputId": "6f5367c6-bf27-47c9-e3f7-7730738f870d"
      },
      "execution_count": null,
      "outputs": [
        {
          "output_type": "stream",
          "name": "stdout",
          "text": [
            "Portfolio Weights:\n",
            "[9.06000320e-09 6.32669910e-10 5.38936227e-01 4.61063759e-01\n",
            " 4.71167465e-09]\n",
            "Portfolio Expected Return: 0.08999999984962999\n",
            "Portfolio Risk (Standard Deviation): 0.1401462025108592\n"
          ]
        }
      ]
    },
    {
      "cell_type": "markdown",
      "source": [
        "Plotting the efficient frontier(max risk and return combination)"
      ],
      "metadata": {
        "id": "jHD1vxvywWBV"
      }
    },
    {
      "cell_type": "code",
      "source": [
        "plt.figure(figsize=(10, 6))\n",
        "plt.scatter(risk_values, return_values, c='b', marker='o', label='Efficient Frontier')\n",
        "plt.xlabel('Risk (Standard Deviation)')\n",
        "plt.ylabel('Expected Return')\n",
        "plt.title('Multi-Objective Portfolio Optimization')\n",
        "plt.grid()\n",
        "plt.legend()\n",
        "plt.show()\n"
      ],
      "metadata": {
        "colab": {
          "base_uri": "https://localhost:8080/",
          "height": 564
        },
        "id": "CahhCbhfwJzl",
        "outputId": "dfd1478b-945c-449b-831f-fa61e15b29e8"
      },
      "execution_count": null,
      "outputs": [
        {
          "output_type": "display_data",
          "data": {
            "text/plain": [
              "<Figure size 1000x600 with 1 Axes>"
            ],
            "image/png": "[encoded data removed]"
          },
          "metadata": {}
        }
      ]
    },
    {
      "cell_type": "code",
      "source": [
        "# https://medium.com/@quantclubiitkgp/multi-objective-portfolio-optimisation-45bdc22fbbb8#:~:text=Multi%2Dobjective%20portfolio%20optimization%20is,maximize%20multiple%20conflicting%20objectives%20simultaneously."
      ],
      "metadata": {
        "id": "2Lfru2iextpl"
      },
      "execution_count": null,
      "outputs": []
    }
  ]
}